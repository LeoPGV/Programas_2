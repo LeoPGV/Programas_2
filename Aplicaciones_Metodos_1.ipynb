{
  "nbformat": 4,
  "nbformat_minor": 0,
  "metadata": {
    "colab": {
      "provenance": []
    },
    "kernelspec": {
      "name": "python3",
      "display_name": "Python 3"
    },
    "language_info": {
      "name": "python"
    }
  },
  "cells": [
    {
      "cell_type": "markdown",
      "source": [
        "**Problema: Muerte en la reserva**"
      ],
      "metadata": {
        "id": "tw_2xH3WVf8I"
      }
    },
    {
      "cell_type": "code",
      "execution_count": 612,
      "metadata": {
        "id": "isd7eU-Gyp5D"
      },
      "outputs": [],
      "source": [
        "from math import *\n",
        "import numpy as np"
      ]
    },
    {
      "cell_type": "markdown",
      "source": [
        "Ley de Newton del enfriamiento/calentamiento"
      ],
      "metadata": {
        "id": "ozzNrkxYDQwK"
      }
    },
    {
      "cell_type": "markdown",
      "source": [
        "$\\frac{dT}{dt} = k(T-T_m)$"
      ],
      "metadata": {
        "id": "2SOIE3NaCKtU"
      }
    },
    {
      "cell_type": "markdown",
      "source": [
        "(1) Caso en donde la temperatura ambiente es constante\n",
        "\n",
        "Donde:\\\n",
        "$t_0=0$\\\n",
        "$T_m = 21$\\\n",
        "$T(0) = 31$\\\n",
        "$T(1) = 29$\\\n",
        "$T(t) = 37$\n",
        "\n",
        "Queremos calcular t de $T(t) = 37$\n",
        "\n",
        "Resolviendo por variables separables\n",
        "\n",
        "$\\frac{dT}{dt} = k(T-T_m) ⇒ \\frac{dT}{T-T_m} = kdt ⇒ \\frac{dT}{T-T_m} = kdt ⇒ \\int\\frac{dT}{T-T_m} = \\int kdt ⇒ ln(T-T_m) = kt + c ⇒ e^{ln(T-T_m)} = e^{kt + c} ⇒ T-T_m = ce^{kt}$\n",
        "\n",
        "$⇒ T = T_m + ce^{kt}$\n",
        "\n",
        "Calculamos $c$ con $T(t_o) = 31$, entonces\n",
        "\n",
        "$T = 21 + ce^{kt} ⇒ 31 = 21 + c ⇒ c = 10$\n",
        "\n",
        "Nos queda como:\n",
        "\n",
        "$T = 21 +10e^{kt}$\n",
        "\n",
        "luego, con $T(1) = 29$\n",
        "\n",
        "$29 = 21 + 10e^{k} ⇒ 10e^{k} = 8 ⇒ e^{k} = \\frac{4}{10} ⇒ ln(e^{k})= ln(\\frac{4}{5}) ⇒ k = ln(\\frac{4}{5}) ⇒ k = -0.2231435513$\n",
        "\n",
        "por lo que\n",
        "\n",
        "$T = 21 - 10e^{-0.2231435513(t)}$\n",
        "\n",
        "ahora con $T(t) = 37$\n",
        "\n",
        "$37 = 21 - 10e^{-0.2231435513(t)}$\n",
        "\n",
        "despejando a $t$\n",
        "\n",
        "$t = \\frac{ln(\\frac{4}{5})}{-0.2231435513} = -2.106265203$\n",
        "\n",
        "Así, entre el instante del disparo y el instante en que fueron detenidos\n",
        "los sospechosos transcurrieron 2 horas y 6 minutos.\n",
        "\n",
        "(2) En el caso cuando la tem peratura d el aire varía con el tiempo\n",
        "\n",
        "$\\frac{dT}{dt} = k(T-T(t)_m)$\n",
        "\n",
        "Donde:\\\n",
        "Detencion de sospechosos:  \n",
        "$T(t) = 30$\n",
        "\n",
        "Cambio de temperatura (desencia cada hora): 1ºC a 0ºC\n",
        "\n",
        "Hallazgo del cadáver:\\\n",
        "$T(1) = 25$\n",
        "\n",
        "Instante del disparo:\\\n",
        "$t = 0$\\\n",
        "$T(t^{*}) = 37 $\\\n",
        "$T(t)_m = t^{*} - t$\n",
        "\n",
        "Integrando la ecuación por factor integrante :\n",
        "\n",
        "$\\frac{dT}{dt} = k(T-T(t)_m) ⇒ T = (37 - t^{*} - \\frac{1}{k})e^{-kt} + t^{*}-t + \\frac{1}{k}$\n",
        "\n",
        "Teniendo en cuenta que $T = 30$ para $t = t^{*}$, y que $T = 25$ para $t = t^{*}+1$, de la ultima expresión obtenemos las igualdades\n",
        "\n",
        "$(37 - t^{*} - \\frac{1}{k})e^{-kt^{*}}+ \\frac{1}{k} = 30 $\n",
        "\n",
        "$(37 - t^{*} - \\frac{1}{k})e^{-k(t^{*}+1)}+ \\frac{1}{k} = 26$\n",
        "\n",
        "A partir de éstas, la sigiente euación recpecto a $k$:\n",
        "\n",
        "$(37 - \\frac{1}{k})e^{-k} - 26 + \\frac{1}{k} = 0$\n",
        "\n",
        "Está ecuacion no se puede resolver por algebraicamento respecto a $k$, por lo que implementamos el método de aproximaciones sucesivas de Newton.\n",
        "\n",
        "Transformando la ecuacion(donde $T_m$ no cambia):\n",
        "\n",
        "$P(k):  30k - 1 + (1-26k)e^{k} = 0$\n",
        "\n",
        "y tomando $T = 37$, entonces (donde $T_m$ si cambia):\n",
        "\n",
        "$P(k): (37k-1+kt)e^{kt}-30k+1 = 0$\n",
        "\n",
        "\n"
      ],
      "metadata": {
        "id": "N5qyCLWCD2Mv"
      }
    },
    {
      "cell_type": "code",
      "source": [
        "#Entrada de valores\n",
        "po = 0.5\n",
        "tol = 0.0000001\n",
        "n = 10"
      ],
      "metadata": {
        "id": "ElQNr_KQ9wI-"
      },
      "execution_count": 613,
      "outputs": []
    },
    {
      "cell_type": "code",
      "source": [
        "import math\n",
        "def f1(x):\n",
        "  f = 30*x - 1 +(1-26*x)*(math.exp(x))\n",
        "  return (f)\n",
        "\n",
        "def f2(x):\n",
        "  h = 30 - (25 + 26*x)*(math.exp(x))\n",
        "  return (h)\n",
        "\n",
        "def f3(x):\n",
        "  g = -(51+26*x)*(math.exp(x))\n",
        "  return (g)\n"
      ],
      "metadata": {
        "id": "bq8zpgFUBawf"
      },
      "execution_count": 614,
      "outputs": []
    },
    {
      "cell_type": "code",
      "source": [
        "# Algoritmo de Newton\n",
        "print(\"i \\t pn \\t\\t f(pn) \\t\\t f'(pn) \\t f''(pn)\")\n",
        "print(\"0 \\t {1:6.6f} \\t {2:6.6f} \\t {3:6.6f} \\t {4:6.6f}\".format(0,po,f1(po),f2(po),f3(po)))\n",
        "i = 1\n",
        "while i<=n:\n",
        "  p = po - f1(po)/f2(po)\n",
        "\n",
        "  if abs(p-po) < tol:\n",
        "    break\n",
        "\n",
        "  po = p\n",
        "  print(\"{0} \\t {1:6.6f} \\t {2:6.6f} \\t {3:6.6f} \\t {4:6.6f}\".format(i,po,f1(po),f2(po),f3(po)))\n",
        "  i = i+1"
      ],
      "metadata": {
        "colab": {
          "base_uri": "https://localhost:8080/"
        },
        "id": "U5jpMaTFiSE-",
        "outputId": "36114fe6-282c-4a1e-bed7-3daa70b43dd5"
      },
      "execution_count": 615,
      "outputs": [
        {
          "output_type": "stream",
          "name": "stdout",
          "text": [
            "i \t pn \t\t f(pn) \t\t f'(pn) \t f''(pn)\n",
            "0 \t 0.500000 \t -5.784655 \t -32.651408 \t -105.518161\n",
            "1 \t 0.322836 \t -1.525956 \t -16.118044 \t -82.025052\n",
            "2 \t 0.228162 \t -0.351425 \t -8.859806 \t -71.523322\n",
            "3 \t 0.188497 \t -0.055195 \t -6.103384 \t -67.496659\n",
            "4 \t 0.179454 \t -0.002748 \t -5.497020 \t -66.607676\n",
            "5 \t 0.178954 \t -0.000008 \t -5.463736 \t -66.558845\n",
            "6 \t 0.178952 \t -0.000000 \t -5.463635 \t -66.558696\n"
          ]
        }
      ]
    },
    {
      "cell_type": "code",
      "source": [
        "#Entrada de valores\n",
        "to = -1\n",
        "tol = 0.000000001\n",
        "n = 10"
      ],
      "metadata": {
        "id": "_MNNygR3-vN2"
      },
      "execution_count": 618,
      "outputs": []
    },
    {
      "cell_type": "markdown",
      "source": [
        "Sustituyendo el valor de K = 0.178952 en:\n",
        "\n",
        "$P(k): (37k-1+kt)e^{kt}-30k+1 = 0$\n",
        "\n",
        "y resolvemos respecto de $t$"
      ],
      "metadata": {
        "id": "qFjR0TfrU_aQ"
      }
    },
    {
      "cell_type": "code",
      "source": [
        "def g1(x):\n",
        "  k=0.178952\n",
        "  j = (37*k-1+k*x)*(math.exp(k*x))-30*k + 1\n",
        "  return (j)\n",
        "\n",
        "def g2(x):\n",
        "  k=0.178952\n",
        "  m = (37*(k**2) + (k**2)*x)*(math.exp(k*x))\n",
        "  return (m)\n",
        "\n",
        "def g3(x):\n",
        "  k=0.178952\n",
        "  r = (37*(k**3) + k**2 + (k**3)*k)*(math.exp(k*x))\n",
        "  return (r)\n"
      ],
      "metadata": {
        "id": "vjve7oJp7spB"
      },
      "execution_count": 619,
      "outputs": []
    },
    {
      "cell_type": "code",
      "source": [
        "# Algoritmo de Newton donde T_m cambia\n",
        "print(\"i \\t pn \\t\\t f(pn) \\t\\t f'(pn) \\t f''(pn)\")\n",
        "print(\"0 \\t {1:6.6f} \\t {2:6.6f} \\t {3:6.6f} \\t {4:6.6f}\".format(0,to,g1(to),g2(to),g3(to)))\n",
        "i = 1\n",
        "while i<=n:\n",
        "  t = to - g1(to)/g2(to)\n",
        "\n",
        "  if abs(t-to) < tol:\n",
        "    break\n",
        "\n",
        "  to = t\n",
        "  print(\"{0} \\t {1:6.7f} \\t {2:6.7f} \\t {3:6.7f} \\t {4:6.7f}\".format(i,to,g1(to),g2(to),g3(to)))\n",
        "  i = i+1"
      ],
      "metadata": {
        "colab": {
          "base_uri": "https://localhost:8080/"
        },
        "id": "GgIIaST2-fj6",
        "outputId": "d672f283-620c-4b4e-c65a-1561cd476c81"
      },
      "execution_count": 620,
      "outputs": [
        {
          "output_type": "stream",
          "name": "stdout",
          "text": [
            "i \t pn \t\t f(pn) \t\t f'(pn) \t f''(pn)\n",
            "0 \t -1.000000 \t 0.181974 \t 0.963957 \t 0.204928\n",
            "1 \t -1.1887782 \t 0.0035059 \t 0.9270495 \t 0.1981206\n",
            "2 \t -1.1925601 \t 0.0000014 \t 0.9263245 \t 0.1979865\n",
            "3 \t -1.1925615 \t 0.0000000 \t 0.9263242 \t 0.1979865\n"
          ]
        }
      ]
    },
    {
      "cell_type": "markdown",
      "source": [
        "De los resultados se deduce que el jabalí fue muerto aproximadamente\n",
        "1 hora y 12 minutos antes de que los guardabosques lo encontraran."
      ],
      "metadata": {
        "id": "wdSfE2H5Uxhx"
      }
    }
  ]
}