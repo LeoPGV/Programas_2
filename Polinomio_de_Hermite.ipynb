{
  "nbformat": 4,
  "nbformat_minor": 0,
  "metadata": {
    "colab": {
      "provenance": []
    },
    "kernelspec": {
      "name": "python3",
      "display_name": "Python 3"
    },
    "language_info": {
      "name": "python"
    }
  },
  "cells": [
    {
      "cell_type": "markdown",
      "source": [
        "**Polinomio de Hermite**"
      ],
      "metadata": {
        "id": "5n4-7-1JQHba"
      }
    },
    {
      "cell_type": "code",
      "execution_count": 1,
      "metadata": {
        "id": "QBk96tH5S2bc"
      },
      "outputs": [],
      "source": [
        "import numpy as np\n",
        "import sympy as sym"
      ]
    },
    {
      "cell_type": "markdown",
      "source": [
        "**Tabla de valores**"
      ],
      "metadata": {
        "id": "vKQHegCYQcJR"
      }
    },
    {
      "cell_type": "code",
      "source": [
        "#Datos de entrada\n",
        "x=[1.3,1.6,1.9]\n",
        "y=[0.6200860,0.4554022,0.2818186]\n",
        "z=[-0.5220232,-0.5698959,-0.5811571]"
      ],
      "metadata": {
        "id": "PPWiAWTCUfCa"
      },
      "execution_count": 2,
      "outputs": []
    },
    {
      "cell_type": "code",
      "source": [
        "#Matriz Q\n",
        "Q=np.zeros((len(x)+3,len(y)+3))\n",
        "#Matriz Z\n",
        "Z=np.zeros((len(x)*2,1))\n",
        "#Matriz P\n",
        "P=np.zeros((1,len(x)+2))\n",
        "#Valores a Q_j,0\n",
        "for r in range(0,len(y)):\n",
        "  Q[r][0]=y[r]"
      ],
      "metadata": {
        "id": "z25fUlD4qQes"
      },
      "execution_count": 28,
      "outputs": []
    },
    {
      "cell_type": "markdown",
      "source": [
        "**Aplicacion del algoritmo**"
      ],
      "metadata": {
        "id": "O-hRsQ4cQRQE"
      }
    },
    {
      "cell_type": "code",
      "source": [
        "\n",
        "#Aplicamos el algoritmo de Hermite\n",
        "for i in range(0,len(x)):\n",
        "  Z[2*i] = x[i]\n",
        "  Z[2*i+1]= x[i]\n",
        "  Q[2*i][0] = y[i]\n",
        "  Q[2*i+1][0] = y[i]\n",
        "  Q[2*i+1][1] = z[i]\n",
        "  if i != 0:\n",
        "    Q[2*i][1] = (Q[2*i][0]-Q[2*i-1][0])/(Z[2*i]- Z[2*i-1])\n",
        "\n",
        "for i in range(2,len(x)+3):\n",
        "    for j in range(2,i+1):\n",
        "        Q[i][j]=(Q[i][j-1]-Q[i-1][j-1])/(Z[i]-Z[i-j])\n",
        "\n",
        "print(Q)\n"
      ],
      "metadata": {
        "colab": {
          "base_uri": "https://localhost:8080/"
        },
        "id": "PzRuhbvYp6al",
        "outputId": "0e887f0a-6e2c-454e-818d-9d217d2e3bfe"
      },
      "execution_count": 29,
      "outputs": [
        {
          "output_type": "stream",
          "name": "stdout",
          "text": [
            "[[ 0.620086    0.          0.          0.          0.          0.        ]\n",
            " [ 0.620086   -0.5220232   0.          0.          0.          0.        ]\n",
            " [ 0.4554022  -0.548946   -0.08974267  0.          0.          0.        ]\n",
            " [ 0.4554022  -0.5698959  -0.069833    0.06636556  0.          0.        ]\n",
            " [ 0.2818186  -0.578612   -0.02905367  0.06796556  0.00266667  0.        ]\n",
            " [ 0.2818186  -0.5811571  -0.00848367  0.06856667  0.00100185 -0.00277469]]\n"
          ]
        }
      ]
    },
    {
      "cell_type": "code",
      "source": [
        "\n",
        "for r in range(0,len(x)+3):\n",
        "  P = Q[r][r]\n",
        "  print(\"Q (\",r,\",\",r,\") = \",P)\n",
        ""
      ],
      "metadata": {
        "colab": {
          "base_uri": "https://localhost:8080/"
        },
        "id": "LxZwViJwQqKJ",
        "outputId": "7baf1f33-5045-4b75-baa6-50957431704d"
      },
      "execution_count": 45,
      "outputs": [
        {
          "output_type": "stream",
          "name": "stdout",
          "text": [
            "Q ( 0 , 0 ) =  0.620086\n",
            "Q ( 1 , 1 ) =  -0.5220232\n",
            "Q ( 2 , 2 ) =  -0.08974266666666673\n",
            "Q ( 3 , 3 ) =  0.06636555555555616\n",
            "Q ( 4 , 4 ) =  0.002666666666662164\n",
            "Q ( 5 , 5 ) =  -0.0027746913579894407\n"
          ]
        }
      ]
    }
  ]
}