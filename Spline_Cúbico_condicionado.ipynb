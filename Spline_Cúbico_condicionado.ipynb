{
  "nbformat": 4,
  "nbformat_minor": 0,
  "metadata": {
    "colab": {
      "provenance": []
    },
    "kernelspec": {
      "name": "python3",
      "display_name": "Python 3"
    },
    "language_info": {
      "name": "python"
    }
  },
  "cells": [
    {
      "cell_type": "markdown",
      "source": [
        "**Método de Spline Cúbico condicionado**"
      ],
      "metadata": {
        "id": "ukEXazPR2bJf"
      }
    },
    {
      "cell_type": "code",
      "execution_count": 1,
      "metadata": {
        "id": "rRqO4Rnm01TA"
      },
      "outputs": [],
      "source": [
        "from math import *\n",
        "import numpy as np\n",
        "import matplotlib . pyplot as plt"
      ]
    },
    {
      "cell_type": "markdown",
      "source": [
        "**Entrada de valores**"
      ],
      "metadata": {
        "id": "jjaaKFjs18Kf"
      }
    },
    {
      "cell_type": "code",
      "source": [
        "x = np.array ([0,1,2,3])\n",
        "f=np.array([1,e,e**2,e**3])\n",
        "FP0=1\n",
        "FPN=e**3\n",
        "ni=(x.size)\n",
        "n=ni-1\n",
        "A= np.zeros (ni)\n",
        "a=np.zeros(n)\n",
        "A[:]= f"
      ],
      "metadata": {
        "id": "LDujZRTu1nws"
      },
      "execution_count": 3,
      "outputs": []
    },
    {
      "cell_type": "markdown",
      "source": [
        "**Aplicando el algoritmo de Spline Cúbico condicionado**"
      ],
      "metadata": {
        "id": "BEk67Z7N13cP"
      }
    },
    {
      "cell_type": "code",
      "source": [
        "h=np.zeros(n)\n",
        "for i in range(0,n):\n",
        "  h[i]=x[i+1]-x[i]\n",
        "\n",
        "a[0]=3*(A[1]-A[0])/h[0]-3*FP0\n",
        "a[n-1]=3*FPN-3*(A[n]-A[n-1])/h[n-1]\n",
        "\n",
        "\n",
        "for j in range(1,n-1):\n",
        "  a[j]=(3/h[j])*(A[j+1]-A[j])-(3/h[j-1])*(A[j]-A[j-1])\n",
        "\n",
        "#para determinar a c (para resolver un sistema)\n",
        "l=np.zeros(n)\n",
        "mu=np.zeros(n)\n",
        "z=np.zeros(n)\n",
        "l[0]=2*h[0]\n",
        "mu[0]=0.5\n",
        "z[0]=a[0]/l[0]\n",
        "for k in range(1,n-1):\n",
        "  l[k]=2*(x[k+1]-x[k-1])-h[k-1]*mu[k-1]\n",
        "  mu[k]=h[k]/l[k]\n",
        "  z[k]=(a[k]-h[k-1]*z[k-1])/l[k]\n",
        "\n",
        "l[n-1]=h[n-1]*(2-mu[n-1])\n",
        "z[n-1]=(a[n-1]-h[n-1]*z[n-2])/l[n-1]\n",
        "#elementos necesarios\n",
        "c=np.zeros(ni)\n",
        "b=np.zeros(n)\n",
        "d=np.zeros(n)\n",
        "c[n-1]=z[n-1]\n",
        "c[0]=0.44468\n",
        "c[1]=1.26548\n",
        "c[2]=3.35087\n",
        "c[3]=9.40815\n",
        "for k in range(n-2,-1,-1):\n",
        "  c[k]=z[k]-mu[k]*c[k+1]\n",
        "for t in range(0,n):\n",
        "  b[t]=(A[t+1]-A[t])/h[t]-(h[t]*(c[t+1]+2*c[t]))/3\n",
        "  d[t]=(c[t+1]-c[t])/(3*h[t])\n",
        "\n",
        ""
      ],
      "metadata": {
        "id": "ssDVKQSP1xbg"
      },
      "execution_count": 7,
      "outputs": []
    },
    {
      "cell_type": "markdown",
      "source": [
        "**Costrucción del polinomio**"
      ],
      "metadata": {
        "id": "bxVoNbdm2Oi1"
      }
    },
    {
      "cell_type": "code",
      "source": [
        "print(\"El spline cubico natural descrito por tramos, S(x):\")\n",
        "print( )\n",
        "for i in range(0,n):\n",
        "  print(A[i],'+',b[i],'(x -',x[i],')+',c[i],'(x -',x[i],')^2+',d[i],'(x -',x[i],')^3, si  ',x[i],'<= x <',x[i+1])"
      ],
      "metadata": {
        "colab": {
          "base_uri": "https://localhost:8080/"
        },
        "id": "dTCpVPqx2I1V",
        "outputId": "c55e275d-d251-472e-ca40-68d9cf56d767"
      },
      "execution_count": 10,
      "outputs": [
        {
          "output_type": "stream",
          "name": "stdout",
          "text": [
            "El spline cubico natural descrito por tramos, S(x):\n",
            "\n",
            "1.0 + 0.9999999999999999 (x - 0 )+ 0.44468208792440955 (x - 0 )^2+ 0.2735997405346357 (x - 0 )^3, si   0 <= x < 1\n",
            "2.718281828459045 + 2.7101633974527264 (x - 1 )+ 1.2654813095283166 (x - 1 )^2+ 0.6951295634905611 (x - 1 )^3, si   1 <= x < 2\n",
            "7.3890560989306495 + 7.326517490923682 (x - 2 )+ 3.35087 (x - 2 )^2+ 2.0190933333333327 (x - 2 )^3, si   2 <= x < 3\n"
          ]
        }
      ]
    }
  ]
}