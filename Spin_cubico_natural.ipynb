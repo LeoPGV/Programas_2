{
  "nbformat": 4,
  "nbformat_minor": 0,
  "metadata": {
    "colab": {
      "provenance": []
    },
    "kernelspec": {
      "name": "python3",
      "display_name": "Python 3"
    },
    "language_info": {
      "name": "python"
    }
  },
  "cells": [
    {
      "cell_type": "markdown",
      "source": [
        "**Método de Spin cubico natural**"
      ],
      "metadata": {
        "id": "pkU-c9LZ36X2"
      }
    },
    {
      "cell_type": "code",
      "source": [
        "import matplotlib.pyplot as plt\n",
        "import pandas as pd\n",
        "from math import *\n",
        "import numpy as np"
      ],
      "metadata": {
        "id": "j8MAp4dx3ywV"
      },
      "execution_count": 41,
      "outputs": []
    },
    {
      "cell_type": "markdown",
      "source": [
        "**Entrada de datos**"
      ],
      "metadata": {
        "id": "6qDAbjnn3_Wj"
      }
    },
    {
      "cell_type": "code",
      "execution_count": 42,
      "metadata": {
        "id": "oaCD13tp3kfe"
      },
      "outputs": [],
      "source": [
        "x=[0,1,2,3]\n",
        "y=[1,np.exp(1),np.exp(2),np.exp(3)]\n",
        "a=y\n",
        "l=[]\n",
        "u=[]\n",
        "z=[]\n",
        "h=[]\n",
        "A=[]\n",
        "c=[]\n",
        "b=[]\n",
        "d=[]\n",
        "for i in range(0,len(x)-1):\n",
        " l.append(0)\n",
        " u.append(0)\n",
        " z.append(0)\n",
        " h.append(0)\n",
        " A.append(0)\n",
        " c.append(0)\n",
        " b.append(0)\n",
        " d.append(0)\n"
      ]
    },
    {
      "cell_type": "markdown",
      "source": [
        "**Aplicando el Algoritmo de Spin cubico natural**"
      ],
      "metadata": {
        "id": "N1Yt9Sdm4oms"
      }
    },
    {
      "cell_type": "code",
      "source": [
        "#Dterminando valores de h\n",
        "i=1\n",
        "for i in range(0,len(x)-1):\n",
        "  h[i]= x[i+1]-x[i]\n",
        "\n",
        "#Modificando valores de a\n",
        "for i in range(1,len(x)-1):\n",
        "  A[i]= (3/h[i])*(a[i+1]-a[i]) - (3/h[i-1])*(a[i]-a[i-1])"
      ],
      "metadata": {
        "id": "0syKxEfL4nvE"
      },
      "execution_count": 43,
      "outputs": []
    },
    {
      "cell_type": "code",
      "source": [
        "#Paso 3 Iniciando l,u,z\n",
        "l[0]=1\n",
        "u[0]=0\n",
        "z[0]=0\n",
        "\n",
        "#Paso 4 Determinando l,u,z\n",
        "\n",
        "for i in range(1,len(x)-1):\n",
        "  l[i]=2*( x[i+1]-x[i-1]) - (h[i-1] )*(u[i-1])\n",
        "  u[i]=(h[i] )/l[i]\n",
        "  z[i]=(A[i]- (h[i-1])*(z[i-1]) )/l[i]"
      ],
      "metadata": {
        "id": "3sxDSgkZ4Nok"
      },
      "execution_count": 44,
      "outputs": []
    },
    {
      "cell_type": "code",
      "source": [
        "#Paso 5\n",
        "l.append(1)\n",
        "z.append(0)\n",
        "c.append(0)\n",
        "\n",
        "j= len(x)-2\n",
        "\n",
        "while (j>=0) :\n",
        "  c[j]=z[j] - (u[j])*(c[j+1])\n",
        "  b[j]=(a[j+1] - a[j])/h[j] - (h[j])*(c[j+1] + 2*c[j])/3\n",
        "  d[j]=(c[j+1] - c[j])/(3*h[j])\n",
        "  j=j-1\n",
        "a.pop()\n",
        "c.pop()\n",
        "print( \"Coeficientes de las funciones que interpolan la función f(x)\")\n",
        "print( )\n",
        "df = pd.DataFrame()\n",
        "df[\"a_j\"]=a\n",
        "df[\"b_j\"]=b\n",
        "df[\"c_j\"]=c\n",
        "df[\"d_j\"]=d\n",
        "print(df)"
      ],
      "metadata": {
        "colab": {
          "base_uri": "https://localhost:8080/"
        },
        "id": "wZZZMXGz4Wcs",
        "outputId": "3fd6599d-9667-4a7f-aeab-efcd65c89f0c"
      },
      "execution_count": 45,
      "outputs": [
        {
          "output_type": "stream",
          "name": "stdout",
          "text": [
            "Coeficientes de las funciones que interpolan la función f(x)\n",
            "\n",
            "        a_j       b_j       c_j       d_j\n",
            "0  1.000000  1.465998  0.000000  0.252284\n",
            "1  2.718282  2.222850  0.756853  1.691071\n",
            "2  7.389056  8.809770  5.830067 -1.943356\n"
          ]
        }
      ]
    }
  ]
}