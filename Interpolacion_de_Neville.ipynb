{
  "nbformat": 4,
  "nbformat_minor": 0,
  "metadata": {
    "colab": {
      "provenance": []
    },
    "kernelspec": {
      "name": "python3",
      "display_name": "Python 3"
    },
    "language_info": {
      "name": "python"
    }
  },
  "cells": [
    {
      "cell_type": "code",
      "execution_count": 17,
      "metadata": {
        "id": "Z-O3PqTHuyiP"
      },
      "outputs": [],
      "source": [
        "import numpy as np"
      ]
    },
    {
      "cell_type": "code",
      "source": [
        "#Datos de entrada\n",
        "x=[1.0,1.3,1.6,1.9,2.2]\n",
        "y=[0.7651977,0.6200860,0.4554022,0.2818186, 0.1103623]"
      ],
      "metadata": {
        "id": "uVUyH3mXvSE6"
      },
      "execution_count": 18,
      "outputs": []
    },
    {
      "cell_type": "code",
      "source": [
        "#Matriz Q\n",
        "Q=np.zeros((len(x),len(y)))\n",
        "\n",
        "#valor al que se quiere interpolar\n",
        "a = 1.5\n",
        "\n",
        "#Valores a Q_j,0\n",
        "\n",
        "for r in range(0,len(y)):\n",
        "  Q[r][0]=y[r]\n",
        "\n",
        "#Calculamos los Q_ij\n",
        "\n",
        "for i in range(1,len(y)):\n",
        "  for j in range(1,i+1):\n",
        "    Q[i][j] = ((a- x[i-j])*(Q[i][j-1])-(a-x[i])*(Q[i-1][j-1]))/(x[i]-x[i-j])\n",
        "\n",
        "print(\"Tabla de valores para interpolar a\", a)\n",
        "print( )\n",
        "print(Q)"
      ],
      "metadata": {
        "colab": {
          "base_uri": "https://localhost:8080/"
        },
        "id": "IEJxVNPWvaJE",
        "outputId": "4006367b-36a3-4e36-e940-201b9e039ed5"
      },
      "execution_count": 19,
      "outputs": [
        {
          "output_type": "stream",
          "name": "stdout",
          "text": [
            "Tabla de valores para interpolar a 1.5\n",
            "\n",
            "[[0.7651977  0.         0.         0.         0.        ]\n",
            " [0.620086   0.52334487 0.         0.         0.        ]\n",
            " [0.4554022  0.5102968  0.51247148 0.         0.        ]\n",
            " [0.2818186  0.5132634  0.51128567 0.51181269 0.        ]\n",
            " [0.1103623  0.510427   0.51373613 0.51183021 0.51181999]]\n"
          ]
        }
      ]
    },
    {
      "cell_type": "code",
      "source": [
        "print('La última nueva entrada es f(1.5) = 0.51181999')"
      ],
      "metadata": {
        "colab": {
          "base_uri": "https://localhost:8080/"
        },
        "id": "N0PbRII_9r1-",
        "outputId": "f43db6ed-a009-4180-8f82-b6f926cfe1f2"
      },
      "execution_count": 22,
      "outputs": [
        {
          "output_type": "stream",
          "name": "stdout",
          "text": [
            "La última nueva entrada es f(1.5) = 0.51181999\n"
          ]
        }
      ]
    }
  ]
}